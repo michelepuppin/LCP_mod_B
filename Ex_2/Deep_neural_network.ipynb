{
 "cells": [
  {
   "cell_type": "code",
   "execution_count": 1,
   "metadata": {},
   "outputs": [
    {
     "name": "stdout",
     "output_type": "stream",
     "text": [
      "6 0 4\n"
     ]
    }
   ],
   "source": [
    "import random\n",
    "# Reproducibility\n",
    "random.seed(12345)\n",
    "\n",
    "print(random.randint(0,10),random.randint(0,10),random.randint(0,10))"
   ]
  },
  {
   "cell_type": "code",
   "execution_count": 2,
   "metadata": {},
   "outputs": [],
   "source": [
    "# Number of data\n",
    "N = 1000\n",
    "\n",
    "# String on L digits from 1 to 9\n",
    "L = 6\n",
    "C0 = 8\n",
    "C1 = 9\n",
    "\n",
    "Cmin = 1\n",
    "Cmax = 9\n",
    "\n",
    "y = [None] * N\n",
    "x = [[None] * L for j in range(N)]"
   ]
  },
  {
   "cell_type": "code",
   "execution_count": 3,
   "metadata": {},
   "outputs": [],
   "source": [
    "for i in range(N):\n",
    "    y[i] = int(random.randint(0,3)==0)\n",
    "    if y[i]:\n",
    "        j0 = random.randint(0,L-1)\n",
    "        j1 = (j0+2)%L\n",
    "    ok = True\n",
    "    while ok:\n",
    "        for j in range(L):\n",
    "            n = random.randint(Cmin,Cmax)\n",
    "            if y[i]:\n",
    "                if j==j0:\n",
    "                    n = C0\n",
    "                elif j==j1:\n",
    "                    n=C1\n",
    "            x[i][j] = n\n",
    "        ok = False \n",
    "        if y[i]==0:\n",
    "            for j0 in range(L):\n",
    "                j1 = (j0+2)%L\n",
    "                if x[j][j0]==C0 and x[i][j1]==C1:\n",
    "                    ok = True"
   ]
  },
  {
   "cell_type": "code",
   "execution_count": 4,
   "metadata": {},
   "outputs": [
    {
     "name": "stdout",
     "output_type": "stream",
     "text": [
      "[4, 5, 7, 3, 6, 2] 0\n",
      "[5, 9, 3, 9, 3, 6] 0\n",
      "[9, 9, 3, 3, 8, 2] 1\n",
      "[6, 6, 1, 8, 6, 1] 0\n",
      "[1, 1, 3, 3, 5, 2] 0\n",
      "[2, 3, 7, 4, 9, 6] 0\n",
      "[2, 8, 4, 9, 3, 5] 1\n",
      "[9, 3, 1, 3, 5, 1] 0\n",
      "[4, 6, 9, 6, 3, 7] 0\n",
      "[1, 1, 1, 8, 2, 7] 0\n"
     ]
    }
   ],
   "source": [
    "for i in range(10):\n",
    "    print(x[i],y[i])"
   ]
  },
  {
   "cell_type": "code",
   "execution_count": 5,
   "metadata": {},
   "outputs": [
    {
     "data": {
      "text/plain": [
       "457362"
      ]
     },
     "execution_count": 5,
     "metadata": {},
     "output_type": "execute_result"
    }
   ],
   "source": [
    "# save space\n",
    "def compact(v):\n",
    "    s = 0\n",
    "    p = 10**(L-1)\n",
    "    j = 0 \n",
    "    while j < L:\n",
    "        s += p*v[j]\n",
    "        p = int(p/10)\n",
    "        j += 1\n",
    "    return s\n",
    "\n",
    "compact(x[0])"
   ]
  },
  {
   "cell_type": "code",
   "execution_count": 6,
   "metadata": {},
   "outputs": [],
   "source": [
    "import csv\n",
    "with open('secretkeys.csv',mode='w') as myfile:\n",
    "    writer = csv.writer(myfile,delimiter=',')\n",
    "    for i in range(N):\n",
    "        writer.writerow([compact(x[i]),y[i]])"
   ]
  },
  {
   "cell_type": "code",
   "execution_count": 7,
   "metadata": {},
   "outputs": [
    {
     "name": "stderr",
     "output_type": "stream",
     "text": [
      "Using TensorFlow backend.\n"
     ]
    }
   ],
   "source": [
    "import math\n",
    "import numpy as np\n",
    "from keras.models import Sequential\n",
    "from keras.layers import Dense, Dropout"
   ]
  },
  {
   "cell_type": "code",
   "execution_count": 8,
   "metadata": {},
   "outputs": [
    {
     "name": "stdout",
     "output_type": "stream",
     "text": [
      "1000\n",
      "6\n",
      "54\n",
      "457362 0\n",
      "593936 0\n",
      "993382 1\n",
      "661861 0\n",
      "113352 0\n",
      "237496 0\n",
      "284935 1\n",
      "931351 0\n",
      "469637 0\n",
      "111827 0\n",
      "1000 800\n"
     ]
    }
   ],
   "source": [
    "D = 9\n",
    "perc_train = 0.8\n",
    "\n",
    "fname = 'secretkeys.csv'\n",
    "dataset = np.loadtxt(fname,delimiter=',',dtype=int)\n",
    "\n",
    "N = len(dataset)\n",
    "print(N)\n",
    "s = dataset[:,0]\n",
    "y = dataset[:,-1]\n",
    "\n",
    "L = len(str(s[0]))\n",
    "print(L)\n",
    "\n",
    "LD = L*D\n",
    "print(LD)\n",
    "\n",
    "for i in range(10):\n",
    "    print(s[i],y[i])\n",
    "    \n",
    "N_train = int(perc_train * N)\n",
    "print(N,N_train)"
   ]
  },
  {
   "cell_type": "code",
   "execution_count": 9,
   "metadata": {},
   "outputs": [
    {
     "name": "stdout",
     "output_type": "stream",
     "text": [
      "457362 --> [0, 0, 0, 1, 0, 0, 0, 0, 0, 0, 0, 0, 0, 1, 0, 0, 0, 0, 0, 0, 0, 0, 0, 0, 1, 0, 0, 0, 0, 1, 0, 0, 0, 0, 0, 0, 0, 0, 0, 0, 0, 1, 0, 0, 0, 0, 1, 0, 0, 0, 0, 0, 0, 0]\n"
     ]
    }
   ],
   "source": [
    "def expand(S):\n",
    "    if(len(str(S))!=L):\n",
    "        print('mismatch!')\n",
    "        return []\n",
    "    x = [0] * LD\n",
    "    p = 10**(L-1)\n",
    "    j = 0\n",
    "    while j < L:\n",
    "        q = int(S/p)\n",
    "        x[j*D + (q-1)] = 1\n",
    "        j += 1\n",
    "        S = S-q*p\n",
    "        p = int(p/10)\n",
    "    return x\n",
    "\n",
    "print(s[0],'-->',expand(s[0]))"
   ]
  },
  {
   "cell_type": "code",
   "execution_count": 10,
   "metadata": {},
   "outputs": [
    {
     "name": "stdout",
     "output_type": "stream",
     "text": [
      "[0, 0, 0, 1, 0, 0, 0, 0, 0, 0, 0, 0, 0, 1, 0, 0, 0, 0, 0, 0, 0, 0, 0, 0, 1, 0, 0, 0, 0, 1, 0, 0, 0, 0, 0, 0, 0, 0, 0, 0, 0, 1, 0, 0, 0, 0, 1, 0, 0, 0, 0, 0, 0, 0]\n",
      "800 200\n"
     ]
    }
   ],
   "source": [
    "x_all = [None] * N\n",
    "for i in range(N):\n",
    "    x_all[i] = expand(s[i])\n",
    "\n",
    "print(x_all[0])\n",
    "\n",
    "(x_train, y_train) = (x_all[0:N_train],y[0:N_train])\n",
    "(x_test, y_test) = (x_all[N_train:],y[N_train:])\n",
    "\n",
    "print(len(x_train),len(x_test))\n",
    "\n",
    "x_train = np.array(x_train)\n",
    "y_train = np.array(y_train)\n",
    "x_test = np.array(x_test)\n",
    "y_test = np.array(y_test)\n"
   ]
  },
  {
   "cell_type": "code",
   "execution_count": 11,
   "metadata": {},
   "outputs": [
    {
     "name": "stdout",
     "output_type": "stream",
     "text": [
      "Model: \"sequential_1\"\n",
      "_________________________________________________________________\n",
      "Layer (type)                 Output Shape              Param #   \n",
      "=================================================================\n",
      "dense_1 (Dense)              (None, 54)                2970      \n",
      "_________________________________________________________________\n",
      "dense_2 (Dense)              (None, 27)                1485      \n",
      "_________________________________________________________________\n",
      "dense_3 (Dense)              (None, 13)                364       \n",
      "_________________________________________________________________\n",
      "dropout_1 (Dropout)          (None, 13)                0         \n",
      "_________________________________________________________________\n",
      "dense_4 (Dense)              (None, 1)                 14        \n",
      "=================================================================\n",
      "Total params: 4,833\n",
      "Trainable params: 4,833\n",
      "Non-trainable params: 0\n",
      "_________________________________________________________________\n",
      "None\n"
     ]
    }
   ],
   "source": [
    "model = Sequential()\n",
    "model.add(Dense(LD,input_shape=(LD,),activation='relu'))\n",
    "model.add(Dense(max(10,int(LD/2)),activation='relu'))\n",
    "model.add(Dense(max(6,int(LD/4)),activation='relu'))\n",
    "model.add(Dropout(0.2))\n",
    "model.add(Dense(1,activation='sigmoid'))\n",
    "print(model.summary())"
   ]
  },
  {
   "cell_type": "code",
   "execution_count": 12,
   "metadata": {},
   "outputs": [],
   "source": [
    "model.compile(loss='binary_crossentropy',\n",
    "              optimizer='adam',\n",
    "              metrics=['accuracy'])"
   ]
  },
  {
   "cell_type": "code",
   "execution_count": 13,
   "metadata": {},
   "outputs": [
    {
     "name": "stdout",
     "output_type": "stream",
     "text": [
      "Train on 800 samples, validate on 200 samples\n",
      "Epoch 1/80\n",
      "800/800 [==============================] - 0s 379us/step - loss: 0.6043 - accuracy: 0.7138 - val_loss: 0.5344 - val_accuracy: 0.7550\n",
      "Epoch 2/80\n",
      "800/800 [==============================] - 0s 71us/step - loss: 0.5342 - accuracy: 0.7362 - val_loss: 0.4930 - val_accuracy: 0.7600\n",
      "Epoch 3/80\n",
      "800/800 [==============================] - 0s 80us/step - loss: 0.4719 - accuracy: 0.7513 - val_loss: 0.4409 - val_accuracy: 0.7550\n",
      "Epoch 4/80\n",
      "800/800 [==============================] - 0s 85us/step - loss: 0.4087 - accuracy: 0.7887 - val_loss: 0.3967 - val_accuracy: 0.7950\n",
      "Epoch 5/80\n",
      "800/800 [==============================] - 0s 81us/step - loss: 0.3500 - accuracy: 0.8413 - val_loss: 0.3708 - val_accuracy: 0.8150\n",
      "Epoch 6/80\n",
      "800/800 [==============================] - 0s 71us/step - loss: 0.3037 - accuracy: 0.8675 - val_loss: 0.3537 - val_accuracy: 0.8250\n",
      "Epoch 7/80\n",
      "800/800 [==============================] - 0s 75us/step - loss: 0.2727 - accuracy: 0.8863 - val_loss: 0.3496 - val_accuracy: 0.8400\n",
      "Epoch 8/80\n",
      "800/800 [==============================] - 0s 77us/step - loss: 0.2422 - accuracy: 0.9013 - val_loss: 0.3313 - val_accuracy: 0.8500\n",
      "Epoch 9/80\n",
      "800/800 [==============================] - 0s 82us/step - loss: 0.2201 - accuracy: 0.9175 - val_loss: 0.3199 - val_accuracy: 0.8500\n",
      "Epoch 10/80\n",
      "800/800 [==============================] - 0s 71us/step - loss: 0.1817 - accuracy: 0.9425 - val_loss: 0.3174 - val_accuracy: 0.8500\n",
      "Epoch 11/80\n",
      "800/800 [==============================] - 0s 71us/step - loss: 0.1613 - accuracy: 0.9513 - val_loss: 0.3228 - val_accuracy: 0.8500\n",
      "Epoch 12/80\n",
      "800/800 [==============================] - 0s 81us/step - loss: 0.1441 - accuracy: 0.9550 - val_loss: 0.3116 - val_accuracy: 0.8550\n",
      "Epoch 13/80\n",
      "800/800 [==============================] - 0s 84us/step - loss: 0.1259 - accuracy: 0.9650 - val_loss: 0.3017 - val_accuracy: 0.8450\n",
      "Epoch 14/80\n",
      "800/800 [==============================] - 0s 70us/step - loss: 0.1114 - accuracy: 0.9712 - val_loss: 0.3050 - val_accuracy: 0.8700\n",
      "Epoch 15/80\n",
      "800/800 [==============================] - 0s 83us/step - loss: 0.0957 - accuracy: 0.9787 - val_loss: 0.3067 - val_accuracy: 0.8550\n",
      "Epoch 16/80\n",
      "800/800 [==============================] - 0s 84us/step - loss: 0.0838 - accuracy: 0.9850 - val_loss: 0.3171 - val_accuracy: 0.8650\n",
      "Epoch 17/80\n",
      "800/800 [==============================] - 0s 92us/step - loss: 0.0751 - accuracy: 0.9850 - val_loss: 0.3024 - val_accuracy: 0.8700\n",
      "Epoch 18/80\n",
      "800/800 [==============================] - 0s 78us/step - loss: 0.0688 - accuracy: 0.9862 - val_loss: 0.3045 - val_accuracy: 0.8750\n",
      "Epoch 19/80\n",
      "800/800 [==============================] - 0s 87us/step - loss: 0.0596 - accuracy: 0.9875 - val_loss: 0.3140 - val_accuracy: 0.8700\n",
      "Epoch 20/80\n",
      "800/800 [==============================] - 0s 87us/step - loss: 0.0510 - accuracy: 0.9850 - val_loss: 0.3319 - val_accuracy: 0.8750\n",
      "Epoch 21/80\n",
      "800/800 [==============================] - 0s 84us/step - loss: 0.0418 - accuracy: 0.9912 - val_loss: 0.3128 - val_accuracy: 0.8750\n",
      "Epoch 22/80\n",
      "800/800 [==============================] - 0s 84us/step - loss: 0.0358 - accuracy: 0.9937 - val_loss: 0.3316 - val_accuracy: 0.8850\n",
      "Epoch 23/80\n",
      "800/800 [==============================] - 0s 83us/step - loss: 0.0364 - accuracy: 0.9925 - val_loss: 0.3369 - val_accuracy: 0.8800\n",
      "Epoch 24/80\n",
      "800/800 [==============================] - 0s 84us/step - loss: 0.0360 - accuracy: 0.9900 - val_loss: 0.3552 - val_accuracy: 0.8800\n",
      "Epoch 25/80\n",
      "800/800 [==============================] - 0s 81us/step - loss: 0.0260 - accuracy: 0.9950 - val_loss: 0.3574 - val_accuracy: 0.8800\n",
      "Epoch 26/80\n",
      "800/800 [==============================] - 0s 74us/step - loss: 0.0219 - accuracy: 0.9975 - val_loss: 0.3682 - val_accuracy: 0.8850\n",
      "Epoch 27/80\n",
      "800/800 [==============================] - 0s 92us/step - loss: 0.0184 - accuracy: 0.9962 - val_loss: 0.3954 - val_accuracy: 0.8800\n",
      "Epoch 28/80\n",
      "800/800 [==============================] - 0s 91us/step - loss: 0.0159 - accuracy: 0.9987 - val_loss: 0.4147 - val_accuracy: 0.8850\n",
      "Epoch 29/80\n",
      "800/800 [==============================] - 0s 89us/step - loss: 0.0115 - accuracy: 0.9987 - val_loss: 0.4322 - val_accuracy: 0.8900\n",
      "Epoch 30/80\n",
      "800/800 [==============================] - 0s 93us/step - loss: 0.0106 - accuracy: 0.9975 - val_loss: 0.4553 - val_accuracy: 0.8850\n",
      "Epoch 31/80\n",
      "800/800 [==============================] - 0s 73us/step - loss: 0.0104 - accuracy: 0.9987 - val_loss: 0.4695 - val_accuracy: 0.8850\n",
      "Epoch 32/80\n",
      "800/800 [==============================] - 0s 89us/step - loss: 0.0105 - accuracy: 0.9987 - val_loss: 0.5245 - val_accuracy: 0.8750\n",
      "Epoch 33/80\n",
      "800/800 [==============================] - 0s 91us/step - loss: 0.0071 - accuracy: 0.9987 - val_loss: 0.5105 - val_accuracy: 0.8700\n",
      "Epoch 34/80\n",
      "800/800 [==============================] - 0s 85us/step - loss: 0.0058 - accuracy: 1.0000 - val_loss: 0.5019 - val_accuracy: 0.8800\n",
      "Epoch 35/80\n",
      "800/800 [==============================] - 0s 85us/step - loss: 0.0058 - accuracy: 1.0000 - val_loss: 0.4910 - val_accuracy: 0.8850\n",
      "Epoch 36/80\n",
      "800/800 [==============================] - 0s 85us/step - loss: 0.0068 - accuracy: 0.9987 - val_loss: 0.4852 - val_accuracy: 0.8850\n",
      "Epoch 37/80\n",
      "800/800 [==============================] - 0s 76us/step - loss: 0.0078 - accuracy: 0.9987 - val_loss: 0.5304 - val_accuracy: 0.8700\n",
      "Epoch 38/80\n",
      "800/800 [==============================] - 0s 71us/step - loss: 0.0041 - accuracy: 1.0000 - val_loss: 0.5324 - val_accuracy: 0.8800\n",
      "Epoch 39/80\n",
      "800/800 [==============================] - 0s 71us/step - loss: 0.0038 - accuracy: 1.0000 - val_loss: 0.5274 - val_accuracy: 0.8750\n",
      "Epoch 40/80\n",
      "800/800 [==============================] - 0s 83us/step - loss: 0.0031 - accuracy: 1.0000 - val_loss: 0.5352 - val_accuracy: 0.8850\n",
      "Epoch 41/80\n",
      "800/800 [==============================] - 0s 83us/step - loss: 0.0036 - accuracy: 0.9987 - val_loss: 0.5450 - val_accuracy: 0.8800\n",
      "Epoch 42/80\n",
      "800/800 [==============================] - 0s 73us/step - loss: 0.0029 - accuracy: 1.0000 - val_loss: 0.5629 - val_accuracy: 0.8800\n",
      "Epoch 43/80\n",
      "800/800 [==============================] - 0s 73us/step - loss: 0.0025 - accuracy: 1.0000 - val_loss: 0.5780 - val_accuracy: 0.8800\n",
      "Epoch 44/80\n",
      "800/800 [==============================] - 0s 73us/step - loss: 0.0023 - accuracy: 1.0000 - val_loss: 0.5901 - val_accuracy: 0.8750\n",
      "Epoch 45/80\n",
      "800/800 [==============================] - 0s 69us/step - loss: 0.0019 - accuracy: 1.0000 - val_loss: 0.5960 - val_accuracy: 0.8850\n",
      "Epoch 46/80\n",
      "800/800 [==============================] - 0s 70us/step - loss: 0.0023 - accuracy: 0.9987 - val_loss: 0.6054 - val_accuracy: 0.8850\n",
      "Epoch 47/80\n",
      "800/800 [==============================] - 0s 71us/step - loss: 0.0022 - accuracy: 1.0000 - val_loss: 0.6153 - val_accuracy: 0.8800\n",
      "Epoch 48/80\n",
      "800/800 [==============================] - 0s 69us/step - loss: 0.0019 - accuracy: 1.0000 - val_loss: 0.6293 - val_accuracy: 0.8750\n",
      "Epoch 49/80\n",
      "800/800 [==============================] - 0s 73us/step - loss: 0.0014 - accuracy: 1.0000 - val_loss: 0.6212 - val_accuracy: 0.8850\n",
      "Epoch 50/80\n",
      "800/800 [==============================] - 0s 69us/step - loss: 0.0012 - accuracy: 1.0000 - val_loss: 0.6352 - val_accuracy: 0.8750\n",
      "Epoch 51/80\n",
      "800/800 [==============================] - 0s 75us/step - loss: 0.0017 - accuracy: 1.0000 - val_loss: 0.6247 - val_accuracy: 0.8900\n",
      "Epoch 52/80\n",
      "800/800 [==============================] - 0s 74us/step - loss: 9.2542e-04 - accuracy: 1.0000 - val_loss: 0.6253 - val_accuracy: 0.8900\n",
      "Epoch 53/80\n",
      "800/800 [==============================] - 0s 77us/step - loss: 0.0022 - accuracy: 0.9987 - val_loss: 0.6336 - val_accuracy: 0.8900\n",
      "Epoch 54/80\n",
      "800/800 [==============================] - 0s 72us/step - loss: 9.6372e-04 - accuracy: 1.0000 - val_loss: 0.6447 - val_accuracy: 0.8900\n",
      "Epoch 55/80\n",
      "800/800 [==============================] - 0s 71us/step - loss: 0.0011 - accuracy: 1.0000 - val_loss: 0.6554 - val_accuracy: 0.8900\n",
      "Epoch 56/80\n",
      "800/800 [==============================] - 0s 76us/step - loss: 0.0014 - accuracy: 1.0000 - val_loss: 0.6473 - val_accuracy: 0.8900\n",
      "Epoch 57/80\n"
     ]
    },
    {
     "name": "stdout",
     "output_type": "stream",
     "text": [
      "800/800 [==============================] - 0s 69us/step - loss: 0.0011 - accuracy: 1.0000 - val_loss: 0.6321 - val_accuracy: 0.8850\n",
      "Epoch 58/80\n",
      "800/800 [==============================] - 0s 72us/step - loss: 7.3786e-04 - accuracy: 1.0000 - val_loss: 0.6389 - val_accuracy: 0.8950\n",
      "Epoch 59/80\n",
      "800/800 [==============================] - 0s 68us/step - loss: 9.8463e-04 - accuracy: 1.0000 - val_loss: 0.6477 - val_accuracy: 0.8800\n",
      "Epoch 60/80\n",
      "800/800 [==============================] - 0s 71us/step - loss: 0.0013 - accuracy: 1.0000 - val_loss: 0.6528 - val_accuracy: 0.8900\n",
      "Epoch 61/80\n",
      "800/800 [==============================] - 0s 67us/step - loss: 0.0017 - accuracy: 0.9987 - val_loss: 0.6619 - val_accuracy: 0.8850\n",
      "Epoch 62/80\n",
      "800/800 [==============================] - 0s 69us/step - loss: 6.5436e-04 - accuracy: 1.0000 - val_loss: 0.6613 - val_accuracy: 0.8900\n",
      "Epoch 63/80\n",
      "800/800 [==============================] - 0s 69us/step - loss: 9.9195e-04 - accuracy: 1.0000 - val_loss: 0.6776 - val_accuracy: 0.8900\n",
      "Epoch 64/80\n",
      "800/800 [==============================] - 0s 69us/step - loss: 9.6378e-04 - accuracy: 1.0000 - val_loss: 0.6860 - val_accuracy: 0.8850\n",
      "Epoch 65/80\n",
      "800/800 [==============================] - 0s 74us/step - loss: 8.0355e-04 - accuracy: 1.0000 - val_loss: 0.6957 - val_accuracy: 0.8850\n",
      "Epoch 66/80\n",
      "800/800 [==============================] - 0s 87us/step - loss: 8.1045e-04 - accuracy: 1.0000 - val_loss: 0.6828 - val_accuracy: 0.8900\n",
      "Epoch 67/80\n",
      "800/800 [==============================] - 0s 86us/step - loss: 0.0026 - accuracy: 0.9975 - val_loss: 0.6849 - val_accuracy: 0.8800\n",
      "Epoch 68/80\n",
      "800/800 [==============================] - 0s 97us/step - loss: 0.0017 - accuracy: 1.0000 - val_loss: 0.7085 - val_accuracy: 0.8800\n",
      "Epoch 69/80\n",
      "800/800 [==============================] - 0s 91us/step - loss: 0.0041 - accuracy: 0.9975 - val_loss: 0.6635 - val_accuracy: 0.8850\n",
      "Epoch 70/80\n",
      "800/800 [==============================] - 0s 82us/step - loss: 0.0087 - accuracy: 0.9975 - val_loss: 0.7158 - val_accuracy: 0.8800\n",
      "Epoch 71/80\n",
      "800/800 [==============================] - 0s 67us/step - loss: 0.0132 - accuracy: 0.9975 - val_loss: 0.8173 - val_accuracy: 0.8700\n",
      "Epoch 72/80\n",
      "800/800 [==============================] - 0s 73us/step - loss: 0.0087 - accuracy: 0.9962 - val_loss: 0.7889 - val_accuracy: 0.8650\n",
      "Epoch 73/80\n",
      "800/800 [==============================] - 0s 78us/step - loss: 0.0040 - accuracy: 0.9987 - val_loss: 0.7534 - val_accuracy: 0.8750\n",
      "Epoch 74/80\n",
      "800/800 [==============================] - 0s 101us/step - loss: 0.0025 - accuracy: 0.9987 - val_loss: 0.7357 - val_accuracy: 0.8850\n",
      "Epoch 75/80\n",
      "800/800 [==============================] - 0s 98us/step - loss: 0.0014 - accuracy: 1.0000 - val_loss: 0.7294 - val_accuracy: 0.8900\n",
      "Epoch 76/80\n",
      "800/800 [==============================] - 0s 97us/step - loss: 0.0014 - accuracy: 1.0000 - val_loss: 0.7330 - val_accuracy: 0.8950\n",
      "Epoch 77/80\n",
      "800/800 [==============================] - 0s 83us/step - loss: 0.0012 - accuracy: 1.0000 - val_loss: 0.7566 - val_accuracy: 0.8950\n",
      "Epoch 78/80\n",
      "800/800 [==============================] - 0s 70us/step - loss: 0.0010 - accuracy: 1.0000 - val_loss: 0.7886 - val_accuracy: 0.8850\n",
      "Epoch 79/80\n",
      "800/800 [==============================] - 0s 74us/step - loss: 8.5900e-04 - accuracy: 1.0000 - val_loss: 0.7830 - val_accuracy: 0.8850\n",
      "Epoch 80/80\n",
      "800/800 [==============================] - 0s 91us/step - loss: 4.8431e-04 - accuracy: 1.0000 - val_loss: 0.7943 - val_accuracy: 0.8850\n"
     ]
    }
   ],
   "source": [
    "fit = model.fit(x_train, y_train,\n",
    "                 epochs=80,batch_size=20,\n",
    "                validation_data=(x_test,y_test))"
   ]
  },
  {
   "cell_type": "code",
   "execution_count": 14,
   "metadata": {},
   "outputs": [
    {
     "data": {
      "image/png": "[encoded data removed]",
      "text/plain": [
       "<Figure size 432x288 with 1 Axes>"
      ]
     },
     "metadata": {
      "needs_background": "light"
     },
     "output_type": "display_data"
    },
    {
     "data": {
      "image/png": "[encoded data removed]",
      "text/plain": [
       "<Figure size 432x288 with 1 Axes>"
      ]
     },
     "metadata": {
      "needs_background": "light"
     },
     "output_type": "display_data"
    }
   ],
   "source": [
    "import matplotlib.pyplot as plt\n",
    "\n",
    "plt.plot(fit.history['accuracy'],label='Train')\n",
    "plt.plot(fit.history['val_accuracy'],label='Val')\n",
    "plt.title('Model accuracy')\n",
    "plt.ylabel('accuracy')\n",
    "plt.xlabel('epochs')\n",
    "plt.legend()\n",
    "plt.show()\n",
    "\n",
    "plt.plot(fit.history['loss'],label='Train')\n",
    "plt.plot(fit.history['val_loss'],label='Val')\n",
    "plt.title('Model loss')\n",
    "plt.ylabel('loss')\n",
    "plt.xlabel('epochs')\n",
    "plt.legend()\n",
    "plt.show()"
   ]
  },
  {
   "cell_type": "code",
   "execution_count": null,
   "metadata": {},
   "outputs": [],
   "source": []
  }
 ],
 "metadata": {
  "kernelspec": {
   "display_name": "Python 3",
   "language": "python",
   "name": "python3"
  },
  "language_info": {
   "codemirror_mode": {
    "name": "ipython",
    "version": 3
   },
   "file_extension": ".py",
   "mimetype": "text/x-python",
   "name": "python",
   "nbconvert_exporter": "python",
   "pygments_lexer": "ipython3",
   "version": "3.7.6"
  }
 },
 "nbformat": 4,
 "nbformat_minor": 4
}
